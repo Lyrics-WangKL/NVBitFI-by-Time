{
 "cells": [
  {
   "cell_type": "markdown",
   "id": "f7637ca3",
   "metadata": {},
   "source": [
    "# 0. C pointers Warm-up"
   ]
  },
  {
   "cell_type": "markdown",
   "id": "9da2e9e0",
   "metadata": {},
   "source": [
    "## Pointer and array on stack"
   ]
  },
  {
   "cell_type": "markdown",
   "id": "2d7a9765",
   "metadata": {},
   "source": [
    "1. Pointer to a plain variable"
   ]
  },
  {
   "cell_type": "code",
   "execution_count": 27,
   "id": "f1a943b8",
   "metadata": {},
   "outputs": [],
   "source": [
    "char c = 'A';\n",
    "char *p2c = &c;"
   ]
  },
  {
   "cell_type": "markdown",
   "id": "0a6bdc47",
   "metadata": {},
   "source": [
    "2. **Declare** Pointer to arrays \n",
    "\n",
    "* Array in C can be accessed through a pointer points to the ```0th``` element\n",
    "* ```p = &(a[0])``` is equivalent to ```p = a```\n",
    "\n",
    "* Arrayname ```vowel``` iteself is a pointer to ```0th``` element"
   ]
  },
  {
   "cell_type": "code",
   "execution_count": 28,
   "id": "d8526a8e",
   "metadata": {},
   "outputs": [
    {
     "name": "stdout",
     "output_type": "stream",
     "text": [
      "p2v method1 = 0x7f114fb8a060\n",
      "p2v method2 = 0x7f114fb8a060\n",
      "p2v method3 = 0x7f114fb8a060"
     ]
    }
   ],
   "source": [
    "char vowels[] = {'A', 'E', 'I', 'O', 'U'};\n",
    "char *p2v1 = vowels;\n",
    "char *p2v2 = &(vowels[0]);\n",
    "printf(\"p2v method1 = %p\\np2v method2 = %p\\n\", p2v1, p2v2);\n",
    "printf(\"p2v method3 = %p\", vowels);"
   ]
  },
  {
   "cell_type": "markdown",
   "id": "72299f25",
   "metadata": {},
   "source": [
    "3. **Access** arrays with pointers\n",
    "* thru array name and index\n",
    "* thru dereferenced array name with offset\n",
    "* thru pointer name and index\n",
    "* thru dereferenced pointer with offsets"
   ]
  },
  {
   "cell_type": "code",
   "execution_count": 29,
   "id": "52ea54ae",
   "metadata": {},
   "outputs": [
    {
     "name": "stdout",
     "output_type": "stream",
     "text": [
      "vowels[0]@addr[0x7f114fb8a060] = A\n",
      "vowels[1]@addr[0x7f114fb8a061] = E\n",
      "vowels[2]@addr[0x7f114fb8a060] = I\n",
      "vowels[3]@addr[0x7f114fb8a060] = O\n",
      "vowels[4]@addr[0x7f114fb8a060] = U\n"
     ]
    }
   ],
   "source": [
    "printf(\"vowels[0]@addr[%p] = %c\\n\", vowels, vowels[0]);\n",
    "printf(\"vowels[1]@addr[%p] = %c\\n\", vowels + 1, *(vowels + 1));\n",
    "printf(\"vowels[2]@addr[%p] = %c\\n\", vowels, p2v1[2]);\n",
    "printf(\"vowels[3]@addr[%p] = %c\\n\", vowels, *(p2v1 + 3));\n",
    "printf(\"vowels[4]@addr[%p] = %c\\n\", vowels, vowels[4]);"
   ]
  },
  {
   "cell_type": "markdown",
   "id": "45e82c1f",
   "metadata": {},
   "source": [
    "## 2D array on the heap"
   ]
  },
  {
   "cell_type": "code",
   "execution_count": 30,
   "id": "6a5c654f",
   "metadata": {},
   "outputs": [],
   "source": [
    "int nRows = 5;\n",
    "int nCols = 3;"
   ]
  },
  {
   "cell_type": "code",
   "execution_count": 31,
   "id": "c96e14c6",
   "metadata": {},
   "outputs": [],
   "source": [
    "float** MatrixInitialize(int nrows, int ncols) {\n",
    "    float** mat = (float **) malloc (nrows * sizeof(float *));\n",
    "    for (int i=0; i < nrows; i++) {\n",
    "        *(mat + i) = (float*) malloc(ncols * sizeof(float));\n",
    "    }\n",
    "    return mat;\n",
    "}"
   ]
  },
  {
   "cell_type": "code",
   "execution_count": 32,
   "id": "301f2cd9",
   "metadata": {},
   "outputs": [],
   "source": [
    "void fillMatrix(float** mat, int nrows, int ncols) {\n",
    "    for (int i=0; i < nrows; i++) {\n",
    "        for (int j=0; j < ncols; j++) {\n",
    "//             mat[i][j] = i + j * i;\n",
    "            *(mat[i] + j) = i + j * i;\n",
    "        }\n",
    "    }\n",
    "}"
   ]
  },
  {
   "cell_type": "code",
   "execution_count": 33,
   "id": "89a9762d",
   "metadata": {},
   "outputs": [],
   "source": [
    "void printMatrix (float** mat, int nrows, int ncols) {\n",
    "    for (int i=0; i < nrows; i++) {\n",
    "        for (int j=0; j < ncols; j++) {\n",
    "            printf(\"mat[%d][%d] = %f, \", i, j, mat[i][j]);\n",
    "        }\n",
    "        printf(\"\\n\");\n",
    "    }\n",
    "}"
   ]
  },
  {
   "cell_type": "code",
   "execution_count": 34,
   "id": "00db05ad",
   "metadata": {},
   "outputs": [],
   "source": [
    "void test(int row, int col) {\n",
    "    float** h_A = MatrixInitialize(row, col);\n",
    "    fillMatrix(h_A, row, col);\n",
    "    printMatrix (h_A, row, col);\n",
    "    for (int i=0; i < row; i++) {\n",
    "        free(h_A[i]);\n",
    "    }\n",
    "    free(h_A);\n",
    "}\n"
   ]
  },
  {
   "cell_type": "code",
   "execution_count": 35,
   "id": "f76cac02",
   "metadata": {},
   "outputs": [
    {
     "name": "stdout",
     "output_type": "stream",
     "text": [
      "mat[0][0] = 0.000000, mat[0][1] = 0.000000, mat[0][2] = 0.000000, \n",
      "mat[1][0] = 1.000000, mat[1][1] = 2.000000, mat[1][2] = 3.000000, \n",
      "mat[2][0] = 2.000000, mat[2][1] = 4.000000, mat[2][2] = 6.000000, \n",
      "mat[3][0] = 3.000000, mat[3][1] = 6.000000, mat[3][2] = 9.000000, \n",
      "mat[4][0] = 4.000000, mat[4][1] = 8.000000, mat[4][2] = 12.000000, \n"
     ]
    }
   ],
   "source": [
    "test(nRows, nCols);"
   ]
  },
  {
   "cell_type": "markdown",
   "id": "a1a85052",
   "metadata": {},
   "source": [
    "# 1. Fundamentals of Paralell Computing"
   ]
  },
  {
   "cell_type": "markdown",
   "id": "9193f673",
   "metadata": {},
   "source": [
    "## a. Device Global Memory and Data Transfer"
   ]
  },
  {
   "cell_type": "markdown",
   "id": "fe59910c",
   "metadata": {},
   "source": [
    "### Memory Allocation"
   ]
  },
  {
   "cell_type": "markdown",
   "id": "aaf01b20",
   "metadata": {},
   "source": [
    "```cudaMalloc(para1, para2)```\n",
    "* Allocates object in the device global memory\n",
    "* Two parameters:\n",
    " * **Address of a pointer** to the allcoated object\n",
    " * **Size** of allocated object in terms of bytes\n",
    " \n",
    "```c\n",
    "int size = n*sizeof(float);\n",
    "float *d_A;\n",
    "//1. Allocate global memory on the device for A\n",
    "CHECK_ERROR(cudaMalloc((void**)&d_A, size));\n",
    "```\n",
    "\n",
    "```cudaFree(para1)```\n",
    "* Frees object from device global memory\n",
    "    * **Pointer** to freed object \n",
    "    \n",
    "```c\n",
    "cudaFree(d_A);\n",
    "```"
   ]
  },
  {
   "cell_type": "markdown",
   "id": "76bf0de6",
   "metadata": {},
   "source": [
    "### Memory Transfer"
   ]
  },
  {
   "cell_type": "markdown",
   "id": "eccd0f3e",
   "metadata": {},
   "source": [
    "```cudaMemcpy(p1, p2, p3, p4)```\n",
    "\n",
    "* Memory data transfer\n",
    "* Requires 4 parameters\n",
    " * Ptr to **destinaton**\n",
    " * Ptr to **source**\n",
    " * Number of bytes copied\n",
    " * Type/Direction of transfer\n",
    " \n",
    "```c\n",
    "\tcudaMemcpy(d_A, h_A, size, cudaMemcpyHostToDevice);\n",
    "\tcudaMemcpy(h_C, d_C, size, cudaMemcpyDeviceToHost);\n",
    "```"
   ]
  },
  {
   "cell_type": "markdown",
   "id": "58b27706",
   "metadata": {},
   "source": [
    "## b. Kernel Functions and Threading"
   ]
  },
  {
   "cell_type": "markdown",
   "id": "ff2c75cc",
   "metadata": {},
   "source": [
    "### 1. BlockDim, ThreadIdx, blockIdx built-in variables\n",
    "\n",
    "<img src=\"resources/Fig2.11.png\" alt=\"Drawing\" style=\"width: 600px;\"/>\n",
    "\n",
    "When host launches a kernel, CUDA generates a 2-level hierarchy:\n",
    "* **Grid** is organized as an array of **thread blocks** (*blocks* for brevity). Each **block** consists of \"many\" threads\n",
    "* The number of threads in a block is avaiable in built in ```blockDim``` variable.\n",
    "\n",
    "\n",
    "```BlockDim``` variable is a struct with three unsigned integer fields: x, y, and z\n",
    "\n",
    "Within each block, CUDA threads use built-in variables: ```threadIdx``` and ```blockIdx``` to distinguish among themselves and  determine the area of data each threads to work on.\n",
    "\n",
    "As shown in the example above: unique global index i is calculated as ```i = blockIdx.x * blockDim.x + threadIdx.x```"
   ]
  },
  {
   "cell_type": "markdown",
   "id": "9ff83c4b",
   "metadata": {},
   "source": [
    "### 2. Function Declaration variables\n",
    "\n",
    "<img src=\"resources/Fig2.13.png\" alt=\"Drawing\" style=\"width: 600px;\"/>\n",
    "\n",
    "* \\_\\_global__ indicates the function as a ```CUDA C kernel function```. **Only** callable from the host except for ```dymanic paralellism```\n",
    "* \\_\\_device__ indicates function as a ```CUDA device function```. **Only** callable from the ```kernel function``` or another ```device function```\n",
    "* \\_\\_host__ indicates function as a ```CUDA host function```**Only** callable from another ```host function```"
   ]
  },
  {
   "cell_type": "markdown",
   "id": "f3239ade",
   "metadata": {},
   "source": [
    "### 3. Kernel Launch\n",
    "\n",
    "```c\n",
    "vecAdd<<<dimGrid, dimBlock>>>(p1, p2, p3);\n",
    "```\n",
    "The parameters between ```<<< >>>``` are called ```configuration parameters```. \n",
    "\n",
    "* ```dimGrid``` defines the number of blocks in the grid\n",
    "* ```dimBlock``` defines the number of threads in each block"
   ]
  },
  {
   "cell_type": "markdown",
   "id": "42fa36b2",
   "metadata": {},
   "source": [
    "**Code Example, say n=4000**\n",
    "\n",
    "<img src=\"resources/Fig2.15.png\" alt=\"Drawing\" style=\"width: 600px;\"/>"
   ]
  },
  {
   "cell_type": "markdown",
   "id": "daae5461",
   "metadata": {},
   "source": [
    "In the example above, each ```block``` has 256 threads. When ```n=4000```, 16 blocks are used. \n",
    "\n",
    "A total of ```16*256 = 4096 threads``` are launched, additional codes may should be added to ```disable 96``` of them."
   ]
  },
  {
   "cell_type": "code",
   "execution_count": null,
   "id": "84b84690",
   "metadata": {},
   "outputs": [],
   "source": []
  }
 ],
 "metadata": {
  "kernelspec": {
   "display_name": "Python 3",
   "language": "python",
   "name": "python3"
  },
  "language_info": {
   "codemirror_mode": {
    "name": "ipython",
    "version": 3
   },
   "file_extension": ".py",
   "mimetype": "text/x-python",
   "name": "python",
   "nbconvert_exporter": "python",
   "pygments_lexer": "ipython3",
   "version": "3.7.11"
  }
 },
 "nbformat": 4,
 "nbformat_minor": 5
}
