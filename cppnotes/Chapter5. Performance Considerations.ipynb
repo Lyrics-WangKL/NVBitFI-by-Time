{
 "cells": [
  {
   "cell_type": "markdown",
   "id": "b4331cd9",
   "metadata": {},
   "source": [
    "# 5.3 Warps and SIMD hardware\n",
    "Launuching a CUDA kernel generates a grid of threads that is organized in a two-level hiearchy.\n",
    "* Grid consists of up to 3D array of blocks\n",
    "* Each Block consists of up to 3D array of threads.\n",
    "\n",
    "Block excecution can be in any order relative to each other"
   ]
  },
  {
   "cell_type": "code",
   "execution_count": null,
   "id": "befb23e7",
   "metadata": {},
   "outputs": [],
   "source": []
  }
 ],
 "metadata": {
  "kernelspec": {
   "display_name": "C++11",
   "language": "C++11",
   "name": "xcpp11"
  },
  "language_info": {
   "codemirror_mode": "text/x-c++src",
   "file_extension": ".cpp",
   "mimetype": "text/x-c++src",
   "name": "c++",
   "version": "11"
  }
 },
 "nbformat": 4,
 "nbformat_minor": 5
}
