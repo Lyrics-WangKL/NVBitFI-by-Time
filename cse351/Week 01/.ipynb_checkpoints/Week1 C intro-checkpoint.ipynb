{
 "cells": [
  {
   "cell_type": "markdown",
   "id": "36a42afb",
   "metadata": {},
   "source": [
    "## Headers\n",
    "These ```#includes``` tell the compiler to **include** the named ***header files***, similar to ```imports``` in Java. \n",
    "The code for these is generally located under ```/usr/include/```: \n",
    "* such as ```/usr/include/assert.h```. ```assert.h``` contains the declaration of the ```assert()``` function, \n",
    "* ```stdio.h``` contains the declaration of the ```printf()``` function, \n",
    "* and ```stdlib.h``` contains the declaration of the ```malloc()``` and ```free()``` functions, all of which are used in the code below."
   ]
  },
  {
   "cell_type": "code",
   "execution_count": 1,
   "id": "b8c0aa93",
   "metadata": {},
   "outputs": [],
   "source": [
    "#include <assert.h>\n",
    "#include <stdio.h>\n",
    "#include <stdlib.h>"
   ]
  },
  {
   "cell_type": "markdown",
   "id": "085be6d8",
   "metadata": {},
   "source": [
    "## Functions to use\n",
    "### 1. Fill array function\n",
    "Fill the given array with values. Note that C **doesn't** keep track of the **length** of arrays, so we have to specify it explictly here.\n",
    "\n",
    "The code below uses asset for sanity check purposes"
   ]
  },
  {
   "cell_type": "code",
   "execution_count": 2,
   "id": "42970b6e",
   "metadata": {},
   "outputs": [],
   "source": [
    "void fillArray(int* array, int len) {\n",
    "  printf(\"Filling an array at address %p with %d \" \"values\\n\", array, len);\n",
    "  for (int i = 0; i < len; ++i) {\n",
    "    array[i] = i * 3 + 2;\n",
    "\n",
    "    // \"sanity check\" with assert\n",
    "    assert(array[i] == i * 3 + 2);\n",
    "  }\n",
    "  printf(\"Done!\\n\");\n",
    "}"
   ]
  },
  {
   "cell_type": "code",
   "execution_count": 3,
   "id": "1413771c",
   "metadata": {},
   "outputs": [],
   "source": [
    "void printArray(int* array, int len) {\n",
    "    for (int i=0; i<len; ++i) {\n",
    "        printf(\"%dth element has address %p, with value %d\\n\", i, &array[i], array[i]);\n",
    "    }\n",
    "}"
   ]
  },
  {
   "cell_type": "markdown",
   "id": "a63b889d",
   "metadata": {},
   "source": [
    "### 2. Struct containing four integers\n",
    "**Structs** are simply storage for memory of various types. In this case, we are typedef-ing (as in naming) a struct containing four integers as FourInts."
   ]
  },
  {
   "cell_type": "code",
   "execution_count": 4,
   "id": "ff0e1d19",
   "metadata": {},
   "outputs": [],
   "source": [
    "typedef struct {\n",
    "  int a, b, c, d;\n",
    "} FourInts;"
   ]
  },
  {
   "cell_type": "markdown",
   "id": "ca39b04c",
   "metadata": {},
   "source": [
    "## Effective ```main()``` function in this notebook"
   ]
  },
  {
   "cell_type": "markdown",
   "id": "062a974a",
   "metadata": {},
   "source": [
    "### 1.1 Create array on stack with ```int array[len]``` and fill it\n",
    "Create a new ```array``` capable of storing **10 elements** and fill it with values using the function declaredabove. Arrays declared **in this manner** are located on the **stack**, which is where **statically allocated (as in not at runtime)** memory is stored."
   ]
  },
  {
   "cell_type": "code",
   "execution_count": 5,
   "id": "c226d39d",
   "metadata": {},
   "outputs": [],
   "source": [
    "int array[10];"
   ]
  },
  {
   "cell_type": "markdown",
   "id": "21ce7951",
   "metadata": {},
   "source": [
    "### 1.2. Try to cause segfaults by accessing contents beyond the allocated memory space\n",
    "Note the array here is actually a **pointer to a block of memory capable of storing 10 integers**. ```array[0]``` is the first integer in this block, ```array[1]``` is the second, and so on. \n",
    "\n",
    "When calling ```fillArray(int* array, int len)```, the segment fault may happen, depending on how large the ```len``` is:\n",
    "* For ```len``` larger than 10 but **not** too large, it just accesses another part of the allocated stack space, and will not cause segfaults\n",
    "* For ```len``` that is too large (3000 in my machine), it causes segfaults, because it has now accessed beyond the memory space allocated for the stack"
   ]
  },
  {
   "cell_type": "code",
   "execution_count": 6,
   "id": "6dc1c4bb",
   "metadata": {},
   "outputs": [
    {
     "name": "stdout",
     "output_type": "stream",
     "text": [
      "Filling an array at address 0x7f909abbd030 with 10 values\n",
      "Done!\n"
     ]
    }
   ],
   "source": [
    "fillArray(array, 10);"
   ]
  },
  {
   "cell_type": "code",
   "execution_count": 7,
   "id": "165e8d4b",
   "metadata": {},
   "outputs": [
    {
     "name": "stdout",
     "output_type": "stream",
     "text": [
      "0th element has address 0x7f909abbd030, with value 2\n",
      "1th element has address 0x7f909abbd034, with value 5\n",
      "2th element has address 0x7f909abbd038, with value 8\n",
      "3th element has address 0x7f909abbd03c, with value 11\n",
      "4th element has address 0x7f909abbd040, with value 14\n",
      "5th element has address 0x7f909abbd044, with value 17\n",
      "6th element has address 0x7f909abbd048, with value 20\n",
      "7th element has address 0x7f909abbd04c, with value 23\n",
      "8th element has address 0x7f909abbd050, with value 26\n",
      "9th element has address 0x7f909abbd054, with value 29\n"
     ]
    }
   ],
   "source": [
    "printArray(array, 10);"
   ]
  },
  {
   "cell_type": "markdown",
   "id": "593cedf3",
   "metadata": {},
   "source": [
    "### 2. Create array on stack with ```pass by pointer```"
   ]
  },
  {
   "cell_type": "code",
   "execution_count": 8,
   "id": "a99d8a27",
   "metadata": {},
   "outputs": [],
   "source": [
    "int value;"
   ]
  },
  {
   "cell_type": "markdown",
   "id": "96932e6c",
   "metadata": {},
   "source": [
    "In C, we can take the **address of something** using **the ```&``` operator**, ```&value``` is of the type ```int*```, meaning that it is a **pointer to an integer**. (In it stores the address in memory of where the actual int variable (```int value``` in this case) is located)\n",
    "\n",
    "In this example, ```&value``` with ```int*``` type is passed into function ```fillArray```, the array is correctedly filled"
   ]
  },
  {
   "cell_type": "code",
   "execution_count": 9,
   "id": "c250f3cd",
   "metadata": {},
   "outputs": [
    {
     "name": "stdout",
     "output_type": "stream",
     "text": [
      "Filling an array at address 0x7f909abbd060 with 1 values\n",
      "Done!\n"
     ]
    }
   ],
   "source": [
    "fillArray(&value, 1);"
   ]
  },
  {
   "cell_type": "code",
   "execution_count": 10,
   "id": "1534a056",
   "metadata": {},
   "outputs": [
    {
     "name": "stdout",
     "output_type": "stream",
     "text": [
      "0th element has address 0x7f909abbd060, with value 2\n"
     ]
    }
   ],
   "source": [
    "printArray(&value, 1);"
   ]
  },
  {
   "cell_type": "markdown",
   "id": "32e51feb",
   "metadata": {},
   "source": [
    "### 3.1 Interacting with ```FourInts``` struct directly"
   ]
  },
  {
   "cell_type": "code",
   "execution_count": 11,
   "id": "c37c7c3d",
   "metadata": {},
   "outputs": [],
   "source": [
    "FourInts four_ints;"
   ]
  },
  {
   "cell_type": "markdown",
   "id": "4f114422",
   "metadata": {},
   "source": [
    "Let's play it in a simpler way first, assign a value to each \"element\" in ```four_ints```, and check their addresses and values"
   ]
  },
  {
   "cell_type": "code",
   "execution_count": 12,
   "id": "dec9f198",
   "metadata": {},
   "outputs": [],
   "source": [
    "four_ints.a = 0;\n",
    "four_ints.b = 1;\n",
    "four_ints.c = 2;\n",
    "four_ints.d = 3;"
   ]
  },
  {
   "cell_type": "code",
   "execution_count": 13,
   "id": "719dd04c",
   "metadata": {},
   "outputs": [
    {
     "name": "stdout",
     "output_type": "stream",
     "text": [
      "address of attributes of four_ints: 0x7f909abbd064, with value 0\n",
      "address of attributes of four_ints: 0x7f909abbd068, with value 1\n",
      "address of attributes of four_ints: 0x7f909abbd06c, with value 2\n",
      "address of attributes of four_ints: 0x7f909abbd070, with value 3\n"
     ]
    }
   ],
   "source": [
    "printf(\"address of attributes of four_ints: %p, with value %d\\n\", &four_ints.a, four_ints.a);\n",
    "printf(\"address of attributes of four_ints: %p, with value %d\\n\", &four_ints.b, four_ints.b);\n",
    "printf(\"address of attributes of four_ints: %p, with value %d\\n\", &four_ints.c, four_ints.c);\n",
    "printf(\"address of attributes of four_ints: %p, with value %d\\n\", &four_ints.d, four_ints.d);"
   ]
  },
  {
   "cell_type": "markdown",
   "id": "8e5d0a67",
   "metadata": {},
   "source": [
    "As we can see, the addresses of four_ints attributs are consecutively growing, which is similiar to the ones we have seen in ```array```.\n",
    "\n",
    "Then ```FourInts``` is actually an **array of four ints**"
   ]
  },
  {
   "cell_type": "markdown",
   "id": "ed04826e",
   "metadata": {},
   "source": [
    "### 3.2 Interacting with ```FourInts``` struct with pointer\n",
    "One can also use pointer to access ```four_ints``` struct by ```pointer to FourInts``` struct"
   ]
  },
  {
   "cell_type": "code",
   "execution_count": 14,
   "id": "4aafeac6",
   "metadata": {},
   "outputs": [],
   "source": [
    "FourInts* ptr2four_ints = &four_ints;"
   ]
  },
  {
   "cell_type": "markdown",
   "id": "aa91feee",
   "metadata": {},
   "source": [
    "We can then cast ```ptr2four_int``` to ```ptr2int``` and pass it to ```fillArray(int* array, int len)```"
   ]
  },
  {
   "cell_type": "code",
   "execution_count": 15,
   "id": "36d5ccd9",
   "metadata": {},
   "outputs": [
    {
     "name": "stdout",
     "output_type": "stream",
     "text": [
      "Filling an array at address 0x7f909abbd064 with 4 values\n",
      "Done!\n"
     ]
    }
   ],
   "source": [
    "fillArray((int*) ptr2four_ints, 4);"
   ]
  },
  {
   "cell_type": "markdown",
   "id": "eebffdc8",
   "metadata": {},
   "source": [
    "Print results, we alternated the values of four_ints struct by pretending ```FourInts*``` as ```int*```"
   ]
  },
  {
   "cell_type": "code",
   "execution_count": 16,
   "id": "ce64b0fb",
   "metadata": {},
   "outputs": [
    {
     "name": "stdout",
     "output_type": "stream",
     "text": [
      "address of attributes of four_ints: 0x7f909abbd064, with value 2\n",
      "address of attributes of four_ints: 0x7f909abbd068, with value 5\n",
      "address of attributes of four_ints: 0x7f909abbd06c, with value 8\n",
      "address of attributes of four_ints: 0x7f909abbd070, with value 11\n"
     ]
    }
   ],
   "source": [
    "printf(\"address of attributes of four_ints: %p, with value %d\\n\", &four_ints.a, four_ints.a);\n",
    "printf(\"address of attributes of four_ints: %p, with value %d\\n\", &four_ints.b, four_ints.b);\n",
    "printf(\"address of attributes of four_ints: %p, with value %d\\n\", &four_ints.c, four_ints.c);\n",
    "printf(\"address of attributes of four_ints: %p, with value %d\\n\", &four_ints.d, four_ints.d);"
   ]
  },
  {
   "cell_type": "markdown",
   "id": "dd3f4e44",
   "metadata": {},
   "source": [
    "Or we can get the same printout using ```printArray()``` by casting ```ptr2four_ints``` to the desired type"
   ]
  },
  {
   "cell_type": "code",
   "execution_count": 17,
   "id": "76a9fc28",
   "metadata": {},
   "outputs": [
    {
     "name": "stdout",
     "output_type": "stream",
     "text": [
      "0th element has address 0x7f909abbd064, with value 2\n",
      "1th element has address 0x7f909abbd068, with value 5\n",
      "2th element has address 0x7f909abbd06c, with value 8\n",
      "3th element has address 0x7f909abbd070, with value 11\n"
     ]
    }
   ],
   "source": [
    "printArray((int*) ptr2four_ints, 4);"
   ]
  },
  {
   "cell_type": "markdown",
   "id": "488503bb",
   "metadata": {},
   "source": [
    "### 4. Create arrays on the heap"
   ]
  },
  {
   "cell_type": "markdown",
   "id": "110b3b65",
   "metadata": {},
   "source": [
    "In the case that the size of an array is **not known until runtime**, the ```malloc()``` function can be used to allocate memory dynamically. \n",
    "\n",
    "Memory that is allocated dynamically is stored on the heap, which is separate from the stack.\n",
    "\n",
    "For C, in that dynamically-allocated memory must be freed explicitly when the program is done using it via the ```free()``` function. ```malloc()``` takes a single argument, which is the number of bytes to allocate. ```sizeof(int)``` gives how many bytes an int contains (which is four), so ```sizeof(int) * 5``` is 20."
   ]
  },
  {
   "cell_type": "code",
   "execution_count": 18,
   "id": "00e6284f",
   "metadata": {},
   "outputs": [
    {
     "name": "stdout",
     "output_type": "stream",
     "text": [
      "size of int in this machine 4\n"
     ]
    }
   ],
   "source": [
    "printf(\"size of int in this machine %lu\\n\", sizeof(int)); "
   ]
  },
  {
   "cell_type": "code",
   "execution_count": 19,
   "id": "e6b1eb31",
   "metadata": {},
   "outputs": [
    {
     "name": "stdout",
     "output_type": "stream",
     "text": [
      "Filling an array at address 0x55d057af49e0 with 5 values\n",
      "Done!\n"
     ]
    }
   ],
   "source": [
    "int *heap_array = (int*) malloc(sizeof(int) * 5);\n",
    "fillArray(heap_array, 5);"
   ]
  },
  {
   "cell_type": "code",
   "execution_count": 20,
   "id": "37e97f16",
   "metadata": {},
   "outputs": [
    {
     "name": "stdout",
     "output_type": "stream",
     "text": [
      "0th element has address 0x55d057af49e0, with value 2\n",
      "1th element has address 0x55d057af49e4, with value 5\n",
      "2th element has address 0x55d057af49e8, with value 8\n",
      "3th element has address 0x55d057af49ec, with value 11\n",
      "4th element has address 0x55d057af49f0, with value 14\n"
     ]
    }
   ],
   "source": [
    "printArray(heap_array, 5);\n",
    "free(heap_array)"
   ]
  },
  {
   "cell_type": "markdown",
   "id": "a4c8e3b0",
   "metadata": {},
   "source": [
    "## Your task\n",
    "TODO(4): Now it's your turn to write some code.\n",
    "Using ```malloc()```, allocate a ```FourInts struct``` **dynamically** (on the heap) and use ```fillArray``` to populate it with values. Make sure to **free** the memory when you are done. \n",
    "\n",
    "As a \"sanity check,\" add four assert statements to verify that the a, b, c, and d fields of the FourInts struct are set to what you would expect. (Hint, you'll need to use the ```-> operator``` to access fields of a ```FourInts*``` variable instead of the ```. operator```)."
   ]
  },
  {
   "cell_type": "code",
   "execution_count": 21,
   "id": "3f540bc5",
   "metadata": {},
   "outputs": [],
   "source": [
    "FourInts* heap_fourints = (FourInts*) malloc(sizeof(FourInts));"
   ]
  },
  {
   "cell_type": "code",
   "execution_count": 22,
   "id": "64047f90",
   "metadata": {},
   "outputs": [
    {
     "name": "stdout",
     "output_type": "stream",
     "text": [
      "Filling an array at address 0x55d0575244a0 with 4 values\n",
      "Done!\n"
     ]
    }
   ],
   "source": [
    "fillArray((int*) heap_fourints, (int)sizeof(FourInts)/sizeof(int));"
   ]
  },
  {
   "cell_type": "code",
   "execution_count": 23,
   "id": "ee1364b0",
   "metadata": {},
   "outputs": [
    {
     "name": "stdout",
     "output_type": "stream",
     "text": [
      "0th element has address 0x55d0575244a0, with value 2\n",
      "1th element has address 0x55d0575244a4, with value 5\n",
      "2th element has address 0x55d0575244a8, with value 8\n",
      "3th element has address 0x55d0575244ac, with value 11\n"
     ]
    }
   ],
   "source": [
    "printArray((int*)heap_fourints, (int)sizeof(FourInts)/sizeof(int));"
   ]
  },
  {
   "cell_type": "code",
   "execution_count": 24,
   "id": "e5d702da",
   "metadata": {},
   "outputs": [],
   "source": [
    "assert(heap_fourints->a == 2);\n",
    "assert(heap_fourints->b == 5);\n",
    "assert(heap_fourints->c == 8);\n",
    "assert(heap_fourints->d == 11);"
   ]
  },
  {
   "cell_type": "code",
   "execution_count": 25,
   "id": "a91bd7fa",
   "metadata": {},
   "outputs": [],
   "source": [
    "free(heap_fourints);"
   ]
  }
 ],
 "metadata": {
  "kernelspec": {
   "display_name": "C++11",
   "language": "C++11",
   "name": "xcpp11"
  },
  "language_info": {
   "codemirror_mode": "text/x-c++src",
   "file_extension": ".cpp",
   "mimetype": "text/x-c++src",
   "name": "c++",
   "version": "11"
  }
 },
 "nbformat": 4,
 "nbformat_minor": 5
}
