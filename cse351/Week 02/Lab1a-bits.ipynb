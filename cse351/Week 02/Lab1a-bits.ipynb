{
 "cells": [
  {
   "cell_type": "markdown",
   "id": "b8b22367",
   "metadata": {},
   "source": [
    "## INTEGER CODING RULES\n",
    " \n",
    "**1.** Replace the ```\"return\"``` statement in each function with one or more lines of C code that implements the function. Your code must conform to the following style:\n",
    "```c\n",
    "  int Funct(arg1, arg2, ...) {\n",
    "      /* brief description of how your implementation works */\n",
    "      int var1 = Expr1;\n",
    "      ...\n",
    "      int varM = ExprM;\n",
    "\n",
    "      varJ = ExprJ;\n",
    "      ...\n",
    "      varN = ExprN;\n",
    "      return ExprR;\n",
    "  }\n",
    "```\n",
    "\n",
    "\n",
    "Each ```\"Expr\"``` is an expression using ONLY the following:\n",
    "\n",
    "* 1. Integer constants ```0 through 255 (0xFF)```, inclusive. You are\n",
    "  not allowed to use big constants such as ```0xffffffff```.\n",
    "* 2. Function arguments and ```local``` variables ```(no global variables)```.\n",
    "* 3. Unary integer operations ```! ~```\n",
    "* 4. Binary integer operations ```& ^ | + << >>```"
   ]
  },
  {
   "cell_type": "markdown",
   "id": "2f040222",
   "metadata": {},
   "source": [
    "## A. Difficulty level 1\n",
    "### 1. BitAnd using only ~ and |\n",
    "**Recall Demorgan's law:**\n",
    "<img src=\"resources/demorgan.png\" alt=\"Drawing\" style=\"width: 180px;\"/>\n",
    "Demorgan's law indicates: \n",
    "```a & b = ~( ~a | ~b)```"
   ]
  },
  {
   "cell_type": "code",
   "execution_count": 22,
   "id": "6b2f6f99",
   "metadata": {},
   "outputs": [],
   "source": [
    "int bitAnd(int x, int y) {\n",
    "  /* x & y is equivalent to the negation of (~x | ~y) (DeMorgan's Law) */\n",
    "  return ~(~x | ~y);\n",
    "}"
   ]
  },
  {
   "cell_type": "markdown",
   "id": "4502e6f3",
   "metadata": {},
   "source": [
    "### 2. BitXor using only ~ and &\n",
    "XOR: ```a ^ b = a & ~b + ~a & b```\n",
    "\n",
    "Using Demorgan's law\n",
    "```a ^ b = ~(~(a & ~b) & ~(~a & b))```"
   ]
  },
  {
   "cell_type": "code",
   "execution_count": 23,
   "id": "26bcf005",
   "metadata": {},
   "outputs": [],
   "source": [
    "int bitXor(int x, int y) {\n",
    "  /*\n",
    "   * x^y is equivalent to (x & ~y) | (~x & y),\n",
    "   * which is also equivalent to ~(~(x & ~y) & ~(~x & y))\n",
    "   */\n",
    "  return ~(~(x & ~y) & ~(~x & y));\n",
    "}"
   ]
  },
  {
   "cell_type": "markdown",
   "id": "0bcf514b",
   "metadata": {},
   "source": [
    "### 3.  ThirdBits - return word with every third bit (starting from the LSB) set to 1\n",
    "*   Legal ops: ! ~ & ^ | + << >>\n",
    "*   Max ops: 8"
   ]
  },
  {
   "cell_type": "code",
   "execution_count": 24,
   "id": "1572ae30",
   "metadata": {},
   "outputs": [],
   "source": [
    "long thirdBits(void) {\n",
    "  /*\n",
    "   * Sets x equal to 1 then shifts it over 3 and adds 1, \n",
    "   * then shifts that over 6 and adds the 3 shifted one,\n",
    "   * then shifts that over 12 and adds the 6 shifted one,\n",
    "   * then shifts that over 24 and adds the 12 shifted one\n",
    "   */\n",
    "  long x = 1;\n",
    "  x = (x << 3) + 1;\n",
    "  x = x + (x << 6);\n",
    "  x = x + (x << 12);\n",
    "  x = x + (x << 24);\n",
    "  x = x + (x << 48);\n",
    "  return x;\n",
    "}"
   ]
  },
  {
   "cell_type": "code",
   "execution_count": 25,
   "id": "be775da8",
   "metadata": {},
   "outputs": [
    {
     "name": "stdout",
     "output_type": "stream",
     "text": [
      "res=1227133513"
     ]
    }
   ],
   "source": [
    "int res = 0;\n",
    "res = thirdBits();\n",
    "printf(\"res=%d\", res);"
   ]
  },
  {
   "cell_type": "markdown",
   "id": "d9de5c3a",
   "metadata": {},
   "source": [
    "## B. Difficulty level 2\n",
    "### 1. Fits bits for 2's complement\n",
    "Return 1 if x can be represented as an n-bit, two's complement integer, where 1<=n<=32\n",
    "\n",
    "**Note that in C, left shift fills 0, right shift fills the signed bit for signed numbers**\n",
    "\n",
    "Therefore, shift x left by ```(32-n)``` bits, if it cannot be accomodated, the MSB changes **from 0 to 1 or from 1 to 0**\n",
    "* When x is positive and cannot be accomodated: **MSB changes from 0 to 1**\n",
    "* When x is negative and cannot be accomodated: **MSB changes from 1 to 0**\n",
    "\n",
    "When shift x back to right, value of x will change if x cannot be represented as an n-bit"
   ]
  },
  {
   "cell_type": "code",
   "execution_count": 26,
   "id": "09058c0b",
   "metadata": {},
   "outputs": [],
   "source": [
    "int fitsBits(int x, int n) {\n",
    "  /*\n",
    "   * Shift x to the left by (32 - n) bits and then shift back.\n",
    "   * If the value of x remains unchanged, then x can be represented\n",
    "   * as an n-bit.\n",
    "   */\n",
    "  int shift = 32 + (~n + 1);\n",
    "  int num = x;\n",
    "  num = num << shift;\n",
    "  num = num >> shift;\n",
    "  return !(num ^ x);\n",
    "}"
   ]
  },
  {
   "cell_type": "code",
   "execution_count": 27,
   "id": "c3958b24",
   "metadata": {},
   "outputs": [
    {
     "name": "stdout",
     "output_type": "stream",
     "text": [
      "res=0"
     ]
    }
   ],
   "source": [
    "int res = 0;\n",
    "res = fitsBits(-5, 3);\n",
    "printf(\"res=%d\", res);"
   ]
  },
  {
   "cell_type": "markdown",
   "id": "005c33f8",
   "metadata": {},
   "source": [
    "#### 1. a. Quick Note: Equal with xor\n",
    "Bitwise XOR using operands ```a``` and ```b``` produce 0 if ```a == b``` \n",
    "Therefore, expressions below are equivalent:\n",
    "```c\n",
    "res1 = !(a^b);\n",
    "res2 = (a == b);\n",
    "```"
   ]
  },
  {
   "cell_type": "code",
   "execution_count": 28,
   "id": "ff5c2fe7",
   "metadata": {},
   "outputs": [],
   "source": [
    "int a = 10;\n",
    "int b = 10;\n",
    "int c = 9;\n",
    "int res1, res2;\n",
    "res1 = !(a ^ b);\n",
    "res2 = (a == b);"
   ]
  },
  {
   "cell_type": "code",
   "execution_count": 29,
   "id": "11680611",
   "metadata": {},
   "outputs": [
    {
     "name": "stdout",
     "output_type": "stream",
     "text": [
      "res1(!(a^b))=1\n",
      "res2(a==b)=1\n"
     ]
    }
   ],
   "source": [
    "printf(\"res1(!(a^b))=%d\\n\", res1);\n",
    "printf(\"res2(a==b)=%d\\n\", res2);"
   ]
  },
  {
   "cell_type": "markdown",
   "id": "df309fa7",
   "metadata": {},
   "source": [
    "### 2. Sign bit for an int number\n",
    "Return 1 if positive, 0 if zero, and -1 if negative\n",
    "\n",
    "Again: **Note that in C, right shift fills the signed bit for signed numbers**\n",
    "\n",
    "Therefore, right shift for 31 bits will keep the **sign bit only**\n",
    "\n",
    "Meanwhile, we need to seperate 0 from positive as the sign bit is 0 for both positive numbers and zeros\n",
    "\n",
    "#### 2.a. Quicknote: Determine whether a number is 0 with logic NOT\n",
    "Consider ```res = !a;```\n",
    "The logic NOT poperator:\n",
    "* returns 1 if ```a == 0```\n",
    "* returns 0 if ```a != 0```\n",
    "For example"
   ]
  },
  {
   "cell_type": "code",
   "execution_count": 30,
   "id": "19d287dd",
   "metadata": {},
   "outputs": [
    {
     "name": "stdout",
     "output_type": "stream",
     "text": [
      "a is zero, returns 1, !a=1\n",
      "b is non-zero, returns 0, !b=0\n"
     ]
    }
   ],
   "source": [
    "int a = 0;\n",
    "printf(\"a is zero, returns 1, !a=%d\\n\", !a);\n",
    "int b = 37211;\n",
    "printf(\"b is non-zero, returns 0, !b=%d\\n\", !b);"
   ]
  },
  {
   "cell_type": "markdown",
   "id": "977fb727",
   "metadata": {},
   "source": [
    "On the contary, ```~``` bitwise NOT negatates every bit of the operand, returns -a - 1 (2's complement - 1)"
   ]
  },
  {
   "cell_type": "code",
   "execution_count": 31,
   "id": "ee341b31",
   "metadata": {},
   "outputs": [
    {
     "name": "stdout",
     "output_type": "stream",
     "text": [
      "~a=-37213"
     ]
    }
   ],
   "source": [
    "int a = 37212;\n",
    "printf(\"~a=%d\", ~a);"
   ]
  },
  {
   "cell_type": "markdown",
   "id": "a0255218",
   "metadata": {},
   "source": [
    "Therefore, the solution will be: ```shift_right_31bit(a) | !(!a)```"
   ]
  },
  {
   "cell_type": "code",
   "execution_count": 32,
   "id": "de1d73c3",
   "metadata": {},
   "outputs": [],
   "source": [
    "int sign(int x) {\n",
    "  return (x >> 31) | (!(!a));\n",
    " }"
   ]
  },
  {
   "cell_type": "markdown",
   "id": "80ba0e63",
   "metadata": {},
   "source": [
    "Why shifting more bits doesn't work? **Overflow** is causing problems right here"
   ]
  },
  {
   "cell_type": "code",
   "execution_count": 33,
   "id": "cc8dd23a",
   "metadata": {},
   "outputs": [],
   "source": [
    "int a = -2147483647;"
   ]
  },
  {
   "cell_type": "code",
   "execution_count": 34,
   "id": "7ca9f2d4",
   "metadata": {},
   "outputs": [
    {
     "name": "stderr",
     "output_type": "stream",
     "text": [
      "\u001b[1minput_line_40:2:24: \u001b[0m\u001b[0;1;35mwarning: \u001b[0m\u001b[1mshift count >= width of type [-Wshift-count-overflow]\u001b[0m\n",
      " printf(\"rsh32=%d\\n\", a>>32);\n",
      "\u001b[0;1;32m                       ^ ~~\n",
      "\u001b[0m"
     ]
    },
    {
     "name": "stdout",
     "output_type": "stream",
     "text": [
      "rsh32=-2147483647\n"
     ]
    }
   ],
   "source": [
    "printf(\"rsh32=%d\\n\", a>>32);"
   ]
  },
  {
   "cell_type": "markdown",
   "id": "cb680e36",
   "metadata": {},
   "source": [
    "In this case, Shifting by 31 bit is correct and works. "
   ]
  },
  {
   "cell_type": "code",
   "execution_count": 35,
   "id": "2ac074ef",
   "metadata": {},
   "outputs": [
    {
     "name": "stdout",
     "output_type": "stream",
     "text": [
      "rsh31=-1\n"
     ]
    }
   ],
   "source": [
    "printf(\"rsh31=%d\\n\", a>>31);"
   ]
  },
  {
   "cell_type": "markdown",
   "id": "75100191",
   "metadata": {},
   "source": [
    "### 3. Get byte n from word x\n",
    "Assume it is a little endian machine, Byte numbered from 0(LSB) to 3(MSB). "
   ]
  },
  {
   "cell_type": "markdown",
   "id": "82b72328",
   "metadata": {},
   "source": [
    "#### 3.a.Quicknote: Filter values with Bitwise AND\n",
    "\n",
    "* Bitwise AND an operand with 0xFF will retain 1's in ```LSB[7:0]```\n",
    "* Bitwise AND an operand with 0x0 will clear that number to all zeros"
   ]
  },
  {
   "cell_type": "markdown",
   "id": "22f7f645",
   "metadata": {},
   "source": [
    "Shift right the input number by ```n*8``` bit, move the needed byte to ```LSB[7:0]```.\n",
    "\n",
    "Then bitwise AND the number with 0xFF to get the lower eight bits."
   ]
  },
  {
   "cell_type": "code",
   "execution_count": 36,
   "id": "77d6ebb6",
   "metadata": {},
   "outputs": [],
   "source": [
    "int getByte(int x, int n) {\n",
    "    /*\n",
    "     * Shift the word to right by 8*n bits and then\n",
    "     * use & with 0xFF to keep the byte we want. \n",
    "     */\n",
    "    int shift = n << 3;\n",
    "    return (x >> shift) & 0xFF;\n",
    "}"
   ]
  },
  {
   "cell_type": "markdown",
   "id": "6ea5d2c8",
   "metadata": {},
   "source": [
    "## C. Difficulty level 3\n",
    "### 1. LogicalShift\n",
    "\n",
    "*   Can assume that 0 <= n <= 31\n",
    "*   Examples: logicalShift(0x87654321,4) = 0x08765432\n",
    "\n",
    "Logic shift right fills 0 into MSB, then we need to create a mask to filter 1's. The mask will be like bitwise AND with 0xF\n",
    "* When n == 0: Mask is 0xFFFFFFFF, i.e. retain x's original value\n",
    "* Otherwise, Mask is 0x7FFFFFFF **shifted right** by **```n-1 bit```**"
   ]
  },
  {
   "cell_type": "code",
   "execution_count": 37,
   "id": "599f69c8",
   "metadata": {},
   "outputs": [],
   "source": [
    "int logicalShift(int x, int n) {\n",
    "  /*\n",
    "   * Creates a filter to get rid of any leading 1's created by\n",
    "   * the arithmetic shift to make it become logical shift. The\n",
    "   * value of filter is 0 followed by all 1's, and then it's\n",
    "   * shifted to the right by n - 1 bits. Shift x to the right by\n",
    "   * n bits and use & with filter to get the result of logical shift.\n",
    "   */\n",
    "  int filter;\n",
    "  filter = 0x7f;\n",
    "  filter = (filter << 8) + 0xFF;\n",
    "  filter = (filter << 8) + 0xFF;\n",
    "  filter = (filter << 8) + 0xFF;\n",
    "//   filter = ((filter >> n) << 1) + 1;\n",
    "  filter = (n == 0) ? 0xFFFFFFFF: filter >> (n - 1);\n",
    "  return (x >> n) & filter; \n",
    "}"
   ]
  },
  {
   "cell_type": "markdown",
   "id": "ea8aadf6",
   "metadata": {},
   "source": [
    "In the above code, Line 15 can be rewritten as\n",
    "```c\n",
    "filter = ((filter >> n) << 1) + 1;\n",
    "```\n",
    "If there was any constraints\n",
    "\n",
    "* When n is non-zero, mask is **shift right by n bit, and shift left by 1 bit**, then **add 1** to retain its original LSB value\n",
    "* When n is zero, mask is left by 1 bit, and add 1, changing mask from ```0x7FFFFFFF to 0xFFFFFFFF```"
   ]
  },
  {
   "cell_type": "markdown",
   "id": "8698a50f",
   "metadata": {},
   "source": [
    "## 2. AddOk?\n",
    "Determine whether overflow occurs when perform addition\n",
    "Function returns 1 if ```x + y``` won't cause overflow\n",
    "\n",
    "When adding two operands, OV happens when the signs for two numbers are the same, but their sum has a differenct sign\n",
    "\n",
    "Therefore, the solution will be:\n",
    "* Get MSBs of op1, op2, and sum\n",
    "    * Get MSB by **shifting right** 31 bits for ```int```\n",
    "    * Overflow condition can be expressed as: ```MSB(a)==MSB(b) && MSB(a)!=MSB(sum)```\n",
    "* Comparing MSBs of op1, op2, sum using XOR operation\n",
    "    * Recall that ```a^b == 0``` means a is equal to b\n",
    "* The expression for overflow should be:\n",
    "    * ```~(MSB(a) ^ MSB(b)) & (MSB(a) ^ MSB(b))```\n",
    "* In this case, we need to negate the above expression because returning 1 when **NO** Overflow"
   ]
  },
  {
   "cell_type": "code",
   "execution_count": 38,
   "id": "c28c3757",
   "metadata": {},
   "outputs": [],
   "source": [
    "int addOK(int x, int y) {\n",
    "  /*\n",
    "   * Overflow occurs when the sign of x and y are the same, but\n",
    "   * the sign of x + y is different. Use ! in front of \n",
    "   * (~(sign_x ^ sign_y) & (sign_x ^ sign_sum)) so it gives 1\n",
    "   * when x + y won't ovreflow.\n",
    "   */\n",
    "  int sum = x + y;\n",
    "  int sign_x = x >> 31;\n",
    "  int sign_y = y >> 31;\n",
    "  int sign_sum = sum >> 31;\n",
    "  return !(~(sign_x ^ sign_y) & (sign_x ^ sign_sum));\n",
    "}"
   ]
  },
  {
   "cell_type": "markdown",
   "id": "ab6452bd",
   "metadata": {},
   "source": [
    "### 3. Conditional Operator\n",
    "The same as ternary operation: ```x?y:z```\n",
    "\n",
    "First determine whether x is 0 by using ```!```, declare an intermediate variable a = !!(x)\n",
    "* When x is non-zero, ```!!x``` returns 32'b1, otherwise returns 32'b0\n",
    "    * When x is non-zero, ```~a + 1``` is all ones. Result should be y & 0xFFFFFFFF\n",
    "    * When x is zero, ```~a + 1``` is all zeros, Result should be z & 0xFFFFFFFF"
   ]
  },
  {
   "cell_type": "code",
   "execution_count": 21,
   "id": "a8b86dcf",
   "metadata": {},
   "outputs": [],
   "source": [
    "int conditional(int x, int y, int z) {\n",
    "  /*\n",
    "   * First determine whether x is 0 using !!x, then use a variable b to hold\n",
    "   * ~(!!x) + 1, which is all bits 0 when x is 0 and all bits 1 otherwise.\n",
    "   * Then use | to (b & y) and (~b & y). Since b is either all bits 0 or 1,\n",
    "   * one of the expression will give 0 and the other one give the original\n",
    "   * value. | with 0 doesn't change the value.\n",
    "   */\n",
    "  int a = !!x;\n",
    "  int b = ~a + 1;\n",
    "  return (b & y) | (~b & z);\n",
    "}"
   ]
  },
  {
   "cell_type": "markdown",
   "id": "9d132760",
   "metadata": {},
   "source": [
    "## D. Difficulty level 4\n",
    "### 1. Compute ```Logical Not``` without using ```!```\n",
    "Return 1 when operand is 0, otherwise returns 0\n",
    "\n",
    "Remember that 0 is the only number that ```x - 1 < 0``` and ```~x < 0```\n",
    "\n",
    "Then get MSB of x - 1 and ~x, truncate the MSB expression by AND with 0x1"
   ]
  },
  {
   "cell_type": "code",
   "execution_count": 20,
   "id": "1ccfbd10",
   "metadata": {},
   "outputs": [],
   "source": [
    "int bang(int x) {\n",
    "  /*\n",
    "   * Since 0 is the only number where x-1 < 0 and ~x is less than 0,\n",
    "   * & x-1 and ~x the sign bit will tell whether x is zero or nonzero.\n",
    "   * Shifting the sign bit down to the first bit (LSB) and & with 1\n",
    "   * will give 1 if x is zero and zero otherwise.\n",
    "   */\n",
    "  int x_minus_one, x_minus_one_msb, x_bar_msb;\n",
    "  int sign_holder;\n",
    "  x_minus_one = x + (~1 + 1);\n",
    "  x_minus_one_msb = x_minus_one >> 31;\n",
    "  x_bar_msb = (~x) >> 31;\n",
    "  sign_holder = x_bar_msb & x_minus_one_msb;\n",
    "  return sign_holder & 0x1;\n",
    " }"
   ]
  },
  {
   "cell_type": "markdown",
   "id": "ac7de967",
   "metadata": {},
   "source": [
    "### 2. IsPower2\n",
    "Returns 1 if x is power of 2, note in this problem, 0 is not considered as pow2\n",
    "Note that:\n",
    "* ```!(1) = 0```\n",
    "* ```!(0) = 1```\n",
    "\n",
    "If x is a pow2, then ```(x - 1) & x``` is 0\n",
    "* Note that ```x - 1``` can be expressed as ```x + ~1 + 1```\n",
    "* ```!(x - 1)&x = 1``` if there was no 1s\n",
    "\n",
    "Meanwhile, we should check whether x is 0 or negative\n",
    "* ```!(x>>31) = 1``` when x is non negative \n",
    "* ```!(x) = 1``` when x is 0\n",
    "* Then we can rewrite the above as:\n",
    "    * ```!(x>>31) = 1``` if x is non-negative, ```=0``` if x is negative\n",
    "    * ```!!(x) = 1``` when x is non-zero, ```=0``` if x is zero \n",
    "    \n",
    "X is pow2 when:\n",
    "1. No 1s for (x - 1) & x\n",
    "2. Non-negative\n",
    "3. Non-zero"
   ]
  },
  {
   "cell_type": "code",
   "execution_count": null,
   "id": "32ace97d",
   "metadata": {},
   "outputs": [],
   "source": [
    "int isPower2(int x) {\n",
    "  /*\n",
    "   * Variable a checks if x is power of 2, x and x - 1 won't have a 1\n",
    "   * in the same place if it's power of 2. Variable b checks if x is\n",
    "   * negative or zero. Use & to combine !a and b to complete the function.\n",
    "   */\n",
    "  int non1s = !(x & (x + ~1 + 1));\n",
    "  int non_negative = !(x >> 31);\n",
    "  int non_zero = !(!(x));\n",
    "  return non1s & non_negative & non_zero;\n",
    "}"
   ]
  },
  {
   "cell_type": "markdown",
   "id": "94ed970f",
   "metadata": {},
   "source": [
    "### 3. Invert certain bits\n",
    "Q: Given an integer ```x```, bit flip ```n``` bits starting at position ```p```\n",
    "\n",
    "1. Using ```x^1``` can flip a bit:\n",
    "* For example:\n",
    "    * ```x = 0: x ^ 1 = 1```\n",
    "    * ```x = 1: x ^ 1 = 0```\n",
    "    \n",
    "2. Then we need a **mask** to control which bits to flip\n",
    "* The mask should contain n 1's at lower n bits, then **left shift n bits by p**\n",
    "    * Create a all one number ~(0x0), i.e. ```-1```, shift that ```all ones number``` left by n bits, and flip that number using **NOT** or **XOR with ONES**. Get a number with ```n x 1s``` at lower n bits\n",
    "    * Shift that n x 1s number left by p bits, XOR with the target operand"
   ]
  },
  {
   "cell_type": "code",
   "execution_count": 3,
   "id": "157bb635",
   "metadata": {},
   "outputs": [],
   "source": [
    "int invert(int x, int p, int n) {\n",
    "  int mask = (-1)^(-1 << n); // create 0b000....111111.111;\n",
    "  mask = mask << p; // Shift left to get 0b000....111...000;\n",
    "  int res;\n",
    "  res = x ^ mask; // res = mask ^ \n",
    "  return res;\n",
    "}"
   ]
  },
  {
   "cell_type": "code",
   "execution_count": 4,
   "id": "3409e7da",
   "metadata": {},
   "outputs": [
    {
     "name": "stdout",
     "output_type": "stream",
     "text": [
      "invert (1645, 2, 4) = 1617"
     ]
    }
   ],
   "source": [
    "printf(\"invert (%d, %d, %d) = %d\", 1645, 2, 4, invert(1645, 2, 4));"
   ]
  }
 ],
 "metadata": {
  "kernelspec": {
   "display_name": "C++11",
   "language": "C++11",
   "name": "xcpp11"
  },
  "language_info": {
   "codemirror_mode": "text/x-c++src",
   "file_extension": ".cpp",
   "mimetype": "text/x-c++src",
   "name": "c++",
   "version": "11"
  }
 },
 "nbformat": 4,
 "nbformat_minor": 5
}
