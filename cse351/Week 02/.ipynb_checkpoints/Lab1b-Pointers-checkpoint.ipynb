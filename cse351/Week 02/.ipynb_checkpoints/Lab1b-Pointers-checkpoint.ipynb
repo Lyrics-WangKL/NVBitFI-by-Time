{
 "cells": [
  {
   "cell_type": "markdown",
   "id": "24d62ba9",
   "metadata": {},
   "source": [
    "## 1. Return the size of an integer in bytes\n",
    "```Address of element 1 - Address of element 0 = Size of element 0```\n",
    "\n",
    "The addresses should be casted to plain data types to avoid **```implicit conversion```**:\n",
    "* Assume ```p1, p2``` has the type ```int*```, then:\n",
    "    * ```p2 - p1 = (addr(p2) - addr(p1)) / sizeof(T)```\n",
    "\n",
    "In this case, we hope ```p2 - p1``` returns ```addr(p2) - addr(p1)```"
   ]
  },
  {
   "cell_type": "code",
   "execution_count": 1,
   "id": "ccfa0dba",
   "metadata": {},
   "outputs": [],
   "source": [
    "int intSize() {\n",
    "    int intArray[10];\n",
    "    int *ptr1;\n",
    "    int *ptr2;\n",
    "    \n",
    "    ptr1 = &(intArray[0]);\n",
    "    ptr2 = &(intArray[1]);\n",
    "    \n",
    "    return (long)(ptr2) - (long)(ptr1);\n",
    "}"
   ]
  },
  {
   "cell_type": "code",
   "execution_count": 2,
   "id": "394e5cfb",
   "metadata": {},
   "outputs": [
    {
     "name": "stdout",
     "output_type": "stream",
     "text": [
      "intSize()=4"
     ]
    }
   ],
   "source": [
    "printf(\"intSize()=%d\", intSize());"
   ]
  },
  {
   "cell_type": "markdown",
   "id": "6a8fc670",
   "metadata": {},
   "source": [
    "## 2. Return the size of double in bytes\n",
    "Similiar to ```int```, ptr should be casted to **avoid conversion**"
   ]
  },
  {
   "cell_type": "code",
   "execution_count": 3,
   "id": "52875b2e",
   "metadata": {},
   "outputs": [],
   "source": [
    "int doubleSize() {\n",
    "      double doubArray[10];\n",
    "      double * doubPtr1;\n",
    "      double * doubPtr2;\n",
    "\n",
    "      doubPtr1 = doubArray;\n",
    "      doubPtr2 = doubPtr1 + 1;\n",
    "      return (long)doubPtr2 - (long)doubPtr1;\n",
    "}"
   ]
  },
  {
   "cell_type": "code",
   "execution_count": 4,
   "id": "c78333d4",
   "metadata": {},
   "outputs": [
    {
     "name": "stdout",
     "output_type": "stream",
     "text": [
      "doubleSize()=8"
     ]
    }
   ],
   "source": [
    "printf(\"doubleSize()=%d\", doubleSize());"
   ]
  },
  {
   "cell_type": "markdown",
   "id": "8ff2fac6",
   "metadata": {},
   "source": [
    "## 3. Return the size of ponters\n",
    "1. Declare an array of pointers ```ptrArray```\n",
    "2. Declare ```ptr1, ptr2``` pointing to the pointer array ```ptrArray```\n",
    "3. Following the similiar steps in Prob1, 2, subtract and cast to get the **size of the data pointed by ptr**"
   ]
  },
  {
   "cell_type": "code",
   "execution_count": 18,
   "id": "5590d1e0",
   "metadata": {},
   "outputs": [],
   "source": [
    "int pointerSize() {\n",
    "  int * ptrArray [10];\n",
    "  int ** ptrPtr1;\n",
    "  int ** ptrPtr2;\n",
    "  /*\n",
    "   * Use two pointers point to first two element in the array, \n",
    "   * and then subtract the address of the element the second \n",
    "   * points to by the address of the element the first \n",
    "   * points to to get the size of pointer.\n",
    "   */\n",
    "  ptrPtr1 = &(ptrArray[0]);\n",
    "  ptrPtr2 = ptrPtr1 + 1;\n",
    "  return (char*) ptrPtr2 - (char*) ptrPtr1;\n",
    "}"
   ]
  },
  {
   "cell_type": "code",
   "execution_count": 19,
   "id": "eeb2de22",
   "metadata": {},
   "outputs": [
    {
     "name": "stdout",
     "output_type": "stream",
     "text": [
      "pointerSize()=8"
     ]
    }
   ],
   "source": [
    "printf(\"pointerSize()=%d\", pointerSize());"
   ]
  },
  {
   "cell_type": "markdown",
   "id": "89894a07",
   "metadata": {},
   "source": [
    "## 4. Change the value of ```Array[5]```using pointer arithmetic\n",
    "* Delcare ```ptr1``` pointing to ```intArray[0]```\n",
    "* ```ptr1 + 1``` points to ```intArray[1]```, ```ptr1 + 2``` points to ```intArray[2]```, etc\n",
    "    * ```intArray[5]``` is pointed by ```ptr2 = ptr1 + 5```\n",
    "* Use dereference operator to change value pointed by ```ptr2```"
   ]
  },
  {
   "cell_type": "code",
   "execution_count": 25,
   "id": "219ff870",
   "metadata": {},
   "outputs": [],
   "source": [
    "int changeValue() {\n",
    "    int intArray[10];\n",
    "    int * intPtr1 = intArray;\n",
    "    int * intPtr2;\n",
    "    \n",
    "    intPtr2 = intPtr1 + 5;\n",
    "    *intPtr2 = 351;\n",
    "    \n",
    "    return intArray[5];\n",
    "}"
   ]
  },
  {
   "cell_type": "code",
   "execution_count": 26,
   "id": "90238491",
   "metadata": {},
   "outputs": [
    {
     "name": "stdout",
     "output_type": "stream",
     "text": [
      "ChangeValue()=351"
     ]
    }
   ],
   "source": [
    "printf(\"ChangeValue()=%d\", changeValue());"
   ]
  },
  {
   "cell_type": "markdown",
   "id": "e71b35ae",
   "metadata": {},
   "source": [
    "## 5. Determine whether two pointers are in the same 64-byte block\n",
    "**Q**: Return 1 if ptr1 and ptr2 are in the same block, otherwise, return 0\n",
    "\n",
    "Recall that in cache addressing, we have the byte offset. The addresses in the same block have the same upper bits but the different byte offset bits. \n",
    "\n",
    "In this case, the **last six** bit are byte offset ```(2^6 = 64)```. \n",
    "\n",
    "The solution will be:\n",
    "\n",
    "```res = (upperbits(ptr1) == upperbits(ptr2))```"
   ]
  },
  {
   "cell_type": "code",
   "execution_count": 29,
   "id": "26498f76",
   "metadata": {},
   "outputs": [],
   "source": [
    "int withinSameBlock(int * ptr1, int * ptr2) {\n",
    "    long p1 = (long)ptr1;\n",
    "    long p2 = (long)ptr2;\n",
    "    long mask;\n",
    "    mask = 0xFFFFFFFFFFFFFFC0;\n",
    "    p1 = p1 & mask;\n",
    "    p2 = p2 & mask;\n",
    "    int res;\n",
    "    res = !(p1 ^ p2);\n",
    "    return res;\n",
    "}"
   ]
  },
  {
   "cell_type": "code",
   "execution_count": 34,
   "id": "801fda69",
   "metadata": {},
   "outputs": [
    {
     "name": "stdout",
     "output_type": "stream",
     "text": [
      "withinSameBlock(0x12345675, 0x1234576)=1"
     ]
    }
   ],
   "source": [
    "printf(\"withinSameBlock(0x12345675, 0x1234576)=%d\", withinSameBlock((int*)0x12345675, (int*)0x12345666));"
   ]
  },
  {
   "cell_type": "code",
   "execution_count": 35,
   "id": "48cdf2dc",
   "metadata": {},
   "outputs": [
    {
     "name": "stdout",
     "output_type": "stream",
     "text": [
      "withinSameBlock(0x12345675, 0x1234576)=0"
     ]
    }
   ],
   "source": [
    "printf(\"withinSameBlock(0x12345675, 0x1234576)=%d\", withinSameBlock((int*)0x12345675, (int*)0x12345606));"
   ]
  },
  {
   "cell_type": "markdown",
   "id": "ebe46a36",
   "metadata": {},
   "source": [
    "## 6. Determine whether a pointer points to an element within the given array\n",
    "**Q**: Given an array with size n, Return 1 if ptr points to an element, otherwise return 1\n",
    "\n",
    "If a pointer ```ptr``` points to an element within the array, then  ```ptr2array[end] > ptr > ptr2array[0]```\n",
    "\n",
    "Let ```p1 = ptr2array[0]```, ```p2 = ptr2array[n-1]```, ```p3 = ptr```:\n",
    "* p3 - p1 is positive\n",
    "* and p2 - p3 is also positive\n",
    "* Result should be ```ispositive(p3-p1) & ispositive(p2-p3)```"
   ]
  },
  {
   "cell_type": "code",
   "execution_count": 40,
   "id": "73f193b2",
   "metadata": {},
   "outputs": [],
   "source": [
    "int withinArray(int * intArray, int size, int * ptr) {\n",
    "    int p1 = (long) intArray;\n",
    "    int p2 = p1 + 4 * (size - 1);\n",
    "    int p3 = (long) ptr;\n",
    "    int diff_ptr2start = p3 - p1; \n",
    "    int diff_end2ptr = p2 - p3;\n",
    "    \n",
    "    diff_ptr2start = !(diff_ptr2start >> 31); // gives 1 if all zeros after shifiting\n",
    "    diff_end2ptr = !(diff_end2ptr >> 31);\n",
    "    return diff_end2ptr & diff_ptr2start;\n",
    "}"
   ]
  },
  {
   "cell_type": "code",
   "execution_count": 43,
   "id": "763f9307",
   "metadata": {},
   "outputs": [
    {
     "name": "stdout",
     "output_type": "stream",
     "text": [
      "withinArray(0x1, 4, 0xd)=1"
     ]
    }
   ],
   "source": [
    "printf(\"withinArray(0x1, 4, 0xd)=%d\", withinArray((int*)0x1, 4, (int*)0xd));"
   ]
  },
  {
   "cell_type": "code",
   "execution_count": 45,
   "id": "0575acb4",
   "metadata": {},
   "outputs": [
    {
     "name": "stdout",
     "output_type": "stream",
     "text": [
      "withinArray(0x1, 4, 0xad)=0"
     ]
    }
   ],
   "source": [
    "printf(\"withinArray(0x1, 4, 0xad)=%d\", withinArray((int*)0x1, 4, (int*)0xad));"
   ]
  }
 ],
 "metadata": {
  "kernelspec": {
   "display_name": "C++11",
   "language": "C++11",
   "name": "xcpp11"
  },
  "language_info": {
   "codemirror_mode": "text/x-c++src",
   "file_extension": ".cpp",
   "mimetype": "text/x-c++src",
   "name": "c++",
   "version": "11"
  }
 },
 "nbformat": 4,
 "nbformat_minor": 5
}
